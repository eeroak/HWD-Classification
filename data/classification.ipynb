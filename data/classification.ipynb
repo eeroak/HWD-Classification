{
 "cells": [
  {
   "cell_type": "code",
   "execution_count": 2,
   "metadata": {},
   "outputs": [
    {
     "data": {
      "text/plain": [
       "<torch._C.Generator at 0x2acfede1f50>"
      ]
     },
     "execution_count": 2,
     "metadata": {},
     "output_type": "execute_result"
    }
   ],
   "source": [
    "# MNIST Handwritten Digit Classification\n",
    "import os\n",
    "import torch\n",
    "import torch.nn as nn               # to load neural network functionality\n",
    "import torch.nn.functional as nnF       # Adds efficiency\n",
    "from torch.utils.data import DataLoader # Data loading in batches\n",
    "from torchvision import datasets, transforms\n",
    "import sklearn\n",
    "import numpy as np\n",
    "import pandas as pd\n",
    "from sklearn.metrics import confusion_matrix # For evaluating results\n",
    "import matplotlib.pyplot as plt\n",
    "%matplotlib inline\n",
    "import time\n",
    "torch.manual_seed(2002) # setting seed for consistent results\n"
   ]
  },
  {
   "cell_type": "code",
   "execution_count": 3,
   "metadata": {},
   "outputs": [
    {
     "data": {
      "text/plain": [
       "Dataset MNIST\n",
       "    Number of datapoints: 60000\n",
       "    Root location: \\data\n",
       "    Split: Train\n",
       "    StandardTransform\n",
       "Transform: ToTensor()"
      ]
     },
     "execution_count": 3,
     "metadata": {},
     "output_type": "execute_result"
    }
   ],
   "source": [
    "transformer = transforms.ToTensor()\n",
    "#print(os.getcwd()) # For debugging :D lol folder problems\n",
    "train_data = datasets.MNIST(root='\\data', train=True, download=False, transform=transformer) # loading the training data\n",
    "train_data"
   ]
  },
  {
   "cell_type": "code",
   "execution_count": 4,
   "metadata": {},
   "outputs": [
    {
     "data": {
      "text/plain": [
       "Dataset MNIST\n",
       "    Number of datapoints: 10000\n",
       "    Root location: \\data\n",
       "    Split: Test\n",
       "    StandardTransform\n",
       "Transform: ToTensor()"
      ]
     },
     "execution_count": 4,
     "metadata": {},
     "output_type": "execute_result"
    }
   ],
   "source": [
    "test_data = datasets.MNIST(root='\\data', train=False, download=False, transform=transformer) # Loading the test data\n",
    "test_data"
   ]
  },
  {
   "cell_type": "code",
   "execution_count": 5,
   "metadata": {},
   "outputs": [
    {
     "name": "stdout",
     "output_type": "stream",
     "text": [
      "Image shape: torch.Size([1, 28, 28]) \n",
      "Image Label: 6\n"
     ]
    }
   ],
   "source": [
    "image, label = train_data[18]\n",
    "print('Image shape:', image.shape, '\\nImage Label:', label)"
   ]
  },
  {
   "cell_type": "code",
   "execution_count": 6,
   "metadata": {},
   "outputs": [
    {
     "data": {
      "text/plain": [
       "<matplotlib.image.AxesImage at 0x2acac9222d0>"
      ]
     },
     "execution_count": 6,
     "metadata": {},
     "output_type": "execute_result"
    },
    {
     "data": {
      "image/png": "[encoded data removed]",
      "text/plain": [
       "<Figure size 640x480 with 1 Axes>"
      ]
     },
     "metadata": {},
     "output_type": "display_data"
    }
   ],
   "source": [
    "plt.imshow(image.reshape((28,28)), cmap=\"gray\") # Gray colormap for only one channel"
   ]
  },
  {
   "cell_type": "code",
   "execution_count": 7,
   "metadata": {},
   "outputs": [],
   "source": [
    "# Establishing data loaders for batch data loading for training and testing sets\n",
    "train_loader = DataLoader(train_data, batch_size=100, shuffle=True)\n",
    "test_loader = DataLoader(test_data, batch_size=500, shuffle=False)"
   ]
  },
  {
   "cell_type": "code",
   "execution_count": 8,
   "metadata": {},
   "outputs": [],
   "source": [
    "class MP(nn.Module): # MP = short for MultilayerPerceptron\n",
    "    # The input size is the flattened 2D-image array, from [[28,28]] -> [784] or smth\n",
    "    # Takes 120 inputs and has 84 neurons, output size is 10, since 0-9 is the range we are dealing with.\n",
    "    def __init__(self, input_size=784, output_size=10, layers=[120,84]):\n",
    "        super().__init__()\n",
    "        # With PyTorch, there is no need to create a separate input layer, it handles the input for you :)\n",
    "        self.hl1 = nn.Linear(input_size, layers[0])  # Hidden layer 1 for computation\n",
    "        self.hl2 = nn.Linear(layers[0], layers[1])   # Hidden layer 2   \n",
    "        self.ol = nn.Linear(layers[1], output_size) # Output layer\n",
    "\n",
    "    def forward(self, X):\n",
    "        X = nnF.relu(self.hl1(X))\n",
    "        X = nnF.relu(self.hl2(X))\n",
    "        X = self.ol(X)\n",
    "        return nnF.log_softmax(X, dim=1) # Applying a softmax limit with a logarithm function\n",
    "        "
   ]
  },
  {
   "cell_type": "code",
   "execution_count": 9,
   "metadata": {},
   "outputs": [
    {
     "name": "stdout",
     "output_type": "stream",
     "text": [
      "MP(\n",
      "  (hl1): Linear(in_features=784, out_features=120, bias=True)\n",
      "  (hl2): Linear(in_features=120, out_features=84, bias=True)\n",
      "  (ol): Linear(in_features=84, out_features=10, bias=True)\n",
      ")\n"
     ]
    }
   ],
   "source": [
    "model = MP()\n",
    "print(model)"
   ]
  },
  {
   "cell_type": "code",
   "execution_count": 10,
   "metadata": {},
   "outputs": [],
   "source": [
    "# Optimizing the model for trying to minimize loss throughtout iterations\n",
    "criteria = nn.CrossEntropyLoss()\n",
    "optimizer = torch.optim.Adam(model.parameters(), lr=0.01)"
   ]
  },
  {
   "cell_type": "code",
   "execution_count": 11,
   "metadata": {},
   "outputs": [
    {
     "name": "stdout",
     "output_type": "stream",
     "text": [
      "Batch shape at start: torch.Size([100, 1, 28, 28])\n",
      "Batch shape after flattening: torch.Size([100, 784])\n"
     ]
    }
   ],
   "source": [
    "for images, labels in train_loader:\n",
    "    print(\"Batch shape at start:\", images.size())\n",
    "    break\n",
    "print(\"Batch shape after flattening:\", images.view(100, -1).size())"
   ]
  },
  {
   "cell_type": "code",
   "execution_count": 12,
   "metadata": {},
   "outputs": [
    {
     "name": "stdout",
     "output_type": "stream",
     "text": [
      "Epoch: 1 \tTraining Loss: 0.247176\n",
      "Epoch: 2 \tTraining Loss: 0.125983\n",
      "Epoch: 3 \tTraining Loss: 0.108589\n",
      "Epoch: 4 \tTraining Loss: 0.098765\n",
      "Epoch: 5 \tTraining Loss: 0.088202\n",
      "Epoch: 6 \tTraining Loss: 0.086886\n",
      "Epoch: 7 \tTraining Loss: 0.082225\n",
      "Epoch: 8 \tTraining Loss: 0.082272\n",
      "Epoch: 9 \tTraining Loss: 0.071360\n",
      "Epoch: 10 \tTraining Loss: 0.069504\n",
      "Epoch: 11 \tTraining Loss: 0.063543\n",
      "Epoch: 12 \tTraining Loss: 0.067822\n",
      "Epoch: 13 \tTraining Loss: 0.060642\n",
      "Epoch: 14 \tTraining Loss: 0.064335\n",
      "Epoch: 15 \tTraining Loss: 0.061347\n",
      "Epoch: 16 \tTraining Loss: 0.051094\n",
      "Epoch: 17 \tTraining Loss: 0.061600\n",
      "Epoch: 18 \tTraining Loss: 0.048527\n",
      "Epoch: 19 \tTraining Loss: 0.050951\n",
      "Epoch: 20 \tTraining Loss: 0.058227\n"
     ]
    }
   ],
   "source": [
    "# Training the model\n",
    "n_epochs = 20 # Number of epochs to train the model on\n",
    "\n",
    "model.train() # Preparing model for training\n",
    "\n",
    "loss_values = [] # Store loss values at each epoch\n",
    "\n",
    "for epoch in range(n_epochs):\n",
    "    # Monitorin training loss\n",
    "    train_loss = 0.0\n",
    "    \n",
    "    for data, target in train_loader:\n",
    "        # Clear the gradients of all optimized variables\n",
    "        optimizer.zero_grad()\n",
    "        data = data.view(data.shape[0], -1) # Reshaping the data\n",
    "        # Compute predicted outputs by passing inputs to the model\n",
    "        output = model(data)\n",
    "        loss = criteria(output, target)\n",
    "        # Compute gradient of the loss with respect to the model parameters\n",
    "        loss.backward()\n",
    "        # Perform a single parameter update\n",
    "        optimizer.step()\n",
    "        # Update training loss\n",
    "        train_loss += loss.item()*data.size(0)\n",
    "    \n",
    "    # Print training stats and calculate average loss between epochs\n",
    "    train_loss = train_loss/len(train_loader.dataset)\n",
    "    print('Epoch: {} \\tTraining Loss: {:.6f}'.format(\n",
    "        epoch+1, \n",
    "        train_loss\n",
    "        ))\n",
    "    loss_values.append(train_loss)\n"
   ]
  },
  {
   "cell_type": "code",
   "execution_count": 27,
   "metadata": {},
   "outputs": [
    {
     "name": "stdout",
     "output_type": "stream",
     "text": [
      "Test Loss: 0.199966\n",
      "\n",
      "Test Accuracy of     0: 97% (959/980)\n",
      "Test Accuracy of     1: 98% (1119/1135)\n",
      "Test Accuracy of     2: 96% (997/1032)\n",
      "Test Accuracy of     3: 97% (989/1010)\n",
      "Test Accuracy of     4: 97% (958/982)\n",
      "Test Accuracy of     5: 96% (862/892)\n",
      "Test Accuracy of     6: 97% (933/958)\n",
      "Test Accuracy of     7: 96% (987/1028)\n",
      "Test Accuracy of     8: 98% (956/974)\n",
      "Test Accuracy of     9: 93% (943/1009)\n",
      "\n",
      "Test Accuracy (Overall): 97% (9703/10000)\n"
     ]
    }
   ],
   "source": [
    "# Testing the trained network\n",
    "test_loss = 0.0\n",
    "class_correct = list(0. for i in range(10))\n",
    "class_total = list(0. for i in range(10))\n",
    "\n",
    "model.eval() # Sets the model in to evaluation mode\n",
    "\n",
    "with torch.no_grad(): # Turns off gradients fo validation, saves memory\n",
    "    for data, target in test_loader:\n",
    "        data = data.view(data.shape[0], -1)\n",
    "        output = model(data)\n",
    "        loss = criteria(output, target)\n",
    "        test_loss += loss.item()*data.size(0)\n",
    "        # Converting output probabilities to predicted class\n",
    "        _, pred = torch.max(output, 1)\n",
    "        # Comparing predictions to the True label\n",
    "        correct = np.squeeze(pred.eq(target.data.view_as(pred)))\n",
    "        \n",
    "        for i in range(500): # Test batch size as range\n",
    "            label = target.data[i]\n",
    "            class_correct[label] += correct[i].item()\n",
    "            class_total[label] += 1\n",
    "test_loss = test_loss/len(test_loader.dataset)\n",
    "print('Test Loss: {:.6f}\\n'.format(test_loss))\n",
    "\n",
    "# Loop over the range of 10 for each of the numbers represented\n",
    "for i in range(10):\n",
    "    # If there are any examples of this class in the test set\n",
    "    if class_total[i] > 0:\n",
    "        # Print the test accuracy for this class. The accuracy is calculated as the number of correct predictions \n",
    "        # for this class divided by the total number of examples of this class in the test set.\n",
    "        print('Test Accuracy of %5s: %2d%% (%2d/%2d)' % (\n",
    "            str(i), 100 * class_correct[i] / class_total[i],\n",
    "            np.sum(class_correct[i]), np.sum(class_total[i])))\n",
    "    else:\n",
    "        # If there are no examples of this class in the test set, print 'N/A'\n",
    "        print('Test Accuracy of %5s: N/A (no training examples)' % (classes[i]))\n",
    "\n",
    "# After going through all the classes, print the overall test accuracy. This is calculated as the total number of \n",
    "# correct predictions across all classes divided by the total number of examples across all classes in the test set.\n",
    "print('\\nTest Accuracy (Overall): %2d%% (%2d/%2d)' % (\n",
    "    100. * np.sum(class_correct) / np.sum(class_total),\n",
    "    np.sum(class_correct), np.sum(class_total)))"
   ]
  },
  {
   "cell_type": "code",
   "execution_count": 32,
   "metadata": {},
   "outputs": [
    {
     "data": {
      "image/png": "[encoded data removed]",
      "text/plain": [
       "<Figure size 800x400 with 1 Axes>"
      ]
     },
     "metadata": {},
     "output_type": "display_data"
    }
   ],
   "source": [
    "# Plotting the training loss \n",
    "plt.style.use('classic')\n",
    "plt.figure(figsize=(10,5))\n",
    "plt.plot(loss_values, 'b-', linewidth=2)\n",
    "plt.grid(True)\n",
    "\n",
    "# Add title and labels with specific font sizes\n",
    "plt.title(\"Training Loss per Epoch\", fontsize=14)\n",
    "plt.xlabel(\"Epoch\", fontsize=12)\n",
    "plt.ylabel(\"Loss\", fontsize=12)\n",
    "\n",
    "# Add a legend\n",
    "plt.legend(['Training Loss'], loc='upper right')\n",
    "\n",
    "# Show the plot\n",
    "plt.show()"
   ]
  }
 ],
 "metadata": {
  "kernelspec": {
   "display_name": "Python 3",
   "language": "python",
   "name": "python3"
  },
  "language_info": {
   "codemirror_mode": {
    "name": "ipython",
    "version": 3
   },
   "file_extension": ".py",
   "mimetype": "text/x-python",
   "name": "python",
   "nbconvert_exporter": "python",
   "pygments_lexer": "ipython3",
   "version": "3.11.0"
  }
 },
 "nbformat": 4,
 "nbformat_minor": 2
}

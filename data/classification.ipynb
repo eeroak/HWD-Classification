{
 "cells": [
  {
   "cell_type": "code",
   "execution_count": 1,
   "metadata": {},
   "outputs": [
    {
     "data": {
      "text/plain": [
       "<torch._C.Generator at 0x104ff8f8070>"
      ]
     },
     "execution_count": 1,
     "metadata": {},
     "output_type": "execute_result"
    }
   ],
   "source": [
    "# MNIST Handwritten Digit Classification\n",
    "import os\n",
    "import torch\n",
    "import torch.nn as nn               # to load neural network functionality\n",
    "import torch.nn.functional as nnF       # Adds efficiency\n",
    "from torch.utils.data import DataLoader # Data loading in batches\n",
    "from torchvision import datasets, transforms\n",
    "import sklearn\n",
    "import numpy as np\n",
    "import pandas as pd\n",
    "from sklearn.metrics import confusion_matrix # For evaluating results\n",
    "import matplotlib.pyplot as plt\n",
    "%matplotlib inline\n",
    "import time\n",
    "torch.manual_seed(2002) # setting seed for consistent results\n"
   ]
  },
  {
   "cell_type": "code",
   "execution_count": 14,
   "metadata": {},
   "outputs": [
    {
     "data": {
      "text/plain": [
       "Dataset MNIST\n",
       "    Number of datapoints: 60000\n",
       "    Root location: \\data\n",
       "    Split: Train\n",
       "    StandardTransform\n",
       "Transform: ToTensor()"
      ]
     },
     "execution_count": 14,
     "metadata": {},
     "output_type": "execute_result"
    }
   ],
   "source": [
    "transformer = transforms.ToTensor()\n",
    "#print(os.getcwd()) # For debugging :D lol folder problems\n",
    "train_data = datasets.MNIST(root='\\data', train=True, download=False, transform=transformer) # loading the training data\n",
    "train_data"
   ]
  },
  {
   "cell_type": "code",
   "execution_count": 16,
   "metadata": {},
   "outputs": [
    {
     "data": {
      "text/plain": [
       "Dataset MNIST\n",
       "    Number of datapoints: 10000\n",
       "    Root location: \\data\n",
       "    Split: Test\n",
       "    StandardTransform\n",
       "Transform: ToTensor()"
      ]
     },
     "execution_count": 16,
     "metadata": {},
     "output_type": "execute_result"
    }
   ],
   "source": [
    "test_data = datasets.MNIST(root='\\data', train=False, download=False, transform=transformer) # Loading the test data\n",
    "test_data"
   ]
  },
  {
   "cell_type": "code",
   "execution_count": 54,
   "metadata": {},
   "outputs": [
    {
     "name": "stdout",
     "output_type": "stream",
     "text": [
      "Image shape: torch.Size([1, 28, 28]) \n",
      "Image Label: 6\n"
     ]
    }
   ],
   "source": [
    "image, label = train_data[18]\n",
    "print('Image shape:', image.shape, '\\nImage Label:', label)"
   ]
  },
  {
   "cell_type": "code",
   "execution_count": 55,
   "metadata": {},
   "outputs": [
    {
     "data": {
      "text/plain": [
       "<matplotlib.image.AxesImage at 0x104afad6410>"
      ]
     },
     "execution_count": 55,
     "metadata": {},
     "output_type": "execute_result"
    },
    {
     "data": {
      "image/png": "[encoded data removed]",
      "text/plain": [
       "<Figure size 640x480 with 1 Axes>"
      ]
     },
     "metadata": {},
     "output_type": "display_data"
    }
   ],
   "source": [
    "plt.imshow(image.reshape((28,28)), cmap=\"gray\") # Gray colormap for only one channel"
   ]
  },
  {
   "cell_type": "code",
   "execution_count": 65,
   "metadata": {},
   "outputs": [],
   "source": [
    "# Establishing data loaders for batch data loading for training and testing sets\n",
    "train_loader = DataLoader(train_data, batch_size=100, shuffle=True)\n",
    "test_loader = DataLoader(test_data, batch_size=500, shuffle=False)"
   ]
  },
  {
   "cell_type": "code",
   "execution_count": 66,
   "metadata": {},
   "outputs": [],
   "source": [
    "class MP(nn.Module): # MP = short for MultilayerPerceptron\n",
    "    # The input size is the flattened 2D-image array, from [[28,28]] -> [784] or smth\n",
    "    # Takes 120 inputs and has 84 neurons, output size is 10, since 0-9 is the range we are dealing with.\n",
    "    def __init__(self, input_size=784, output_size=10, layers=[120,84]):\n",
    "        super().__init__()\n",
    "        # With PyTorch, there is no need to create a separate input layer, it handles the input for you :)\n",
    "        self.hl1 = nn.Linear(input_size, layers[0])  # Hidden layer 1 for computation\n",
    "        self.hl2 = nn.Linear(layers[0], layers[1])   # Hidden layer 2   \n",
    "        self.ol = nn.Linear(layers[1], output_size) # Output layer\n",
    "\n",
    "    def forward(self, X):\n",
    "        X = nnF.relu(self.hl1(X))\n",
    "        X = nnF.relu(self.hl2(X))\n",
    "        X = self.ol(X)\n",
    "        return nnF.log_softmax(X, dim=1) # Applying a softmax limit with a logarithm function\n",
    "        "
   ]
  },
  {
   "cell_type": "code",
   "execution_count": 67,
   "metadata": {},
   "outputs": [
    {
     "name": "stdout",
     "output_type": "stream",
     "text": [
      "MP(\n",
      "  (hl1): Linear(in_features=784, out_features=120, bias=True)\n",
      "  (hl2): Linear(in_features=120, out_features=84, bias=True)\n",
      "  (ol): Linear(in_features=84, out_features=10, bias=True)\n",
      ")\n"
     ]
    }
   ],
   "source": [
    "model = MP()\n",
    "print(model)"
   ]
  },
  {
   "cell_type": "code",
   "execution_count": 68,
   "metadata": {},
   "outputs": [],
   "source": [
    "# Optimizing the model for trying to minimize loss throughtout iterations\n",
    "criteria = nn.CrossEntropyLoss()\n",
    "optimizer = torch.optim.Adam(model.parameters(), lr=0.01)"
   ]
  },
  {
   "cell_type": "code",
   "execution_count": 69,
   "metadata": {},
   "outputs": [
    {
     "name": "stdout",
     "output_type": "stream",
     "text": [
      "Batch shape at start: torch.Size([100, 1, 28, 28])\n",
      "Batch shape after flattening: torch.Size([100, 784])\n"
     ]
    }
   ],
   "source": [
    "for images, labels in train_loader:\n",
    "    print(\"Batch shape at start:\", images.size())\n",
    "    break\n",
    "print(\"Batch shape after flattening:\", images.view(100, -1).size())"
   ]
  },
  {
   "cell_type": "code",
   "execution_count": null,
   "metadata": {},
   "outputs": [],
   "source": [
    "# Training the model\n",
    "n_epochs = 10 # Number of epochs to train the model on\n",
    "\n",
    "model.train() # Preparing model for training\n",
    "\n",
    "for epoch in range(n_epochs):\n",
    "    # Monitorin training loss\n",
    "    train_loss = 0.0\n",
    "    \n",
    "    for data, target in train_loader:\n",
    "        # Clear the gradients of all optimized variables\n",
    "        optimizer.zero_grad()\n",
    "        data = data.view(data.shape[0], -1) # Reshaping the data\n",
    "        # Compute predicted outputs by passing inputs to the model\n",
    "        output = model(data)\n",
    "        loss = criteria(output, target)\n",
    "        # Compute gradient of the loss with respect to the model parameters\n",
    "        loss.backward()\n",
    "        # Perform a single parameter update\n",
    "        optimizer.step()\n",
    "        # Update training loss\n",
    "        train_loss += loss.item()*data.size(0)\n",
    "    \n",
    "    # Print training stats and calculate average loss between epochs\n",
    "    train_loss = train_loss/len(train_loader.dataset)\n",
    "    print('Epoch: {} \\tTraining Loss: {:.6f}'.format(\n",
    "        epoch+1, \n",
    "        train_loss\n",
    "        ))\n"
   ]
  }
 ],
 "metadata": {
  "kernelspec": {
   "display_name": "Python 3",
   "language": "python",
   "name": "python3"
  },
  "language_info": {
   "codemirror_mode": {
    "name": "ipython",
    "version": 3
   },
   "file_extension": ".py",
   "mimetype": "text/x-python",
   "name": "python",
   "nbconvert_exporter": "python",
   "pygments_lexer": "ipython3",
   "version": "3.11.0"
  }
 },
 "nbformat": 4,
 "nbformat_minor": 2
}
